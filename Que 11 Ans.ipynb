{
 "cells": [
  {
   "cell_type": "code",
   "execution_count": 1,
   "id": "1c2c8e4c",
   "metadata": {},
   "outputs": [],
   "source": [
    "import numpy as np\n",
    "import pandas as pd\n",
    "from scipy import stats\n",
    "from scipy.stats import norm"
   ]
  },
  {
   "cell_type": "code",
   "execution_count": 21,
   "id": "2f02e986",
   "metadata": {},
   "outputs": [
    {
     "name": "stdout",
     "output_type": "stream",
     "text": [
      "94% confidence interval is: [198.74 201.26]\n"
     ]
    }
   ],
   "source": [
    "# AVERAGE WEIGHT OF ADULT IN MEXICO CITY AT 94%\n",
    "CI94 =stats.norm.interval(0.94,200,30/2000**0.5)\n",
    "print( '94% confidence interval is:', np.round(CI94, 2))"
   ]
  },
  {
   "cell_type": "code",
   "execution_count": 22,
   "id": "74951f57",
   "metadata": {},
   "outputs": [
    {
     "name": "stdout",
     "output_type": "stream",
     "text": [
      "98% confidence interval is: [198.44 201.56]\n"
     ]
    }
   ],
   "source": [
    "# AVERAGE WEIGHT OF ADULT IN MEXICO CITY AT 98%\n",
    "CI98 =stats.norm.interval(0.98,200,30/2000**0.5)\n",
    "print( '98% confidence interval is:', np.round(CI98, 2))"
   ]
  },
  {
   "cell_type": "code",
   "execution_count": 23,
   "id": "6384f61b",
   "metadata": {},
   "outputs": [
    {
     "name": "stdout",
     "output_type": "stream",
     "text": [
      "96% confidence interval is: [198.62 201.38]\n"
     ]
    }
   ],
   "source": [
    "# AVERAGE WEIGHT OF ADULT IN MEXICO CITY AT 96%\n",
    "CI96 =stats.norm.interval(0.96,200,30/2000**0.5)\n",
    "print( '96% confidence interval is:', np.round(CI96, 2))"
   ]
  },
  {
   "cell_type": "code",
   "execution_count": null,
   "id": "03d7e7aa",
   "metadata": {},
   "outputs": [],
   "source": []
  }
 ],
 "metadata": {
  "kernelspec": {
   "display_name": "Python 3 (ipykernel)",
   "language": "python",
   "name": "python3"
  },
  "language_info": {
   "codemirror_mode": {
    "name": "ipython",
    "version": 3
   },
   "file_extension": ".py",
   "mimetype": "text/x-python",
   "name": "python",
   "nbconvert_exporter": "python",
   "pygments_lexer": "ipython3",
   "version": "3.9.12"
  }
 },
 "nbformat": 4,
 "nbformat_minor": 5
}
