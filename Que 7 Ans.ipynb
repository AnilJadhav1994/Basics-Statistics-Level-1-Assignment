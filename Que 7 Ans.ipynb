{
 "cells": [
  {
   "cell_type": "code",
   "execution_count": 11,
   "id": "b9bac778",
   "metadata": {},
   "outputs": [],
   "source": [
    "from statistics import mean,median,mode,stdev"
   ]
  },
  {
   "cell_type": "code",
   "execution_count": 12,
   "id": "d8f78953",
   "metadata": {},
   "outputs": [],
   "source": [
    "import pandas as pd"
   ]
  },
  {
   "cell_type": "code",
   "execution_count": 13,
   "id": "789966dc",
   "metadata": {},
   "outputs": [],
   "source": [
    "Df1=pd.read_csv(\"Q7.csv\")"
   ]
  },
  {
   "cell_type": "code",
   "execution_count": 34,
   "id": "4c971ccf",
   "metadata": {
    "scrolled": true
   },
   "outputs": [
    {
     "data": {
      "text/html": [
       "<div>\n",
       "<style scoped>\n",
       "    .dataframe tbody tr th:only-of-type {\n",
       "        vertical-align: middle;\n",
       "    }\n",
       "\n",
       "    .dataframe tbody tr th {\n",
       "        vertical-align: top;\n",
       "    }\n",
       "\n",
       "    .dataframe thead th {\n",
       "        text-align: right;\n",
       "    }\n",
       "</style>\n",
       "<table border=\"1\" class=\"dataframe\">\n",
       "  <thead>\n",
       "    <tr style=\"text-align: right;\">\n",
       "      <th></th>\n",
       "      <th>Unnamed: 0</th>\n",
       "      <th>Points</th>\n",
       "      <th>Score</th>\n",
       "      <th>Weigh</th>\n",
       "    </tr>\n",
       "  </thead>\n",
       "  <tbody>\n",
       "    <tr>\n",
       "      <th>0</th>\n",
       "      <td>Mazda RX4</td>\n",
       "      <td>3.90</td>\n",
       "      <td>2.620</td>\n",
       "      <td>16.46</td>\n",
       "    </tr>\n",
       "    <tr>\n",
       "      <th>1</th>\n",
       "      <td>Mazda RX4 Wag</td>\n",
       "      <td>3.90</td>\n",
       "      <td>2.875</td>\n",
       "      <td>17.02</td>\n",
       "    </tr>\n",
       "    <tr>\n",
       "      <th>2</th>\n",
       "      <td>Datsun 710</td>\n",
       "      <td>3.85</td>\n",
       "      <td>2.320</td>\n",
       "      <td>18.61</td>\n",
       "    </tr>\n",
       "    <tr>\n",
       "      <th>3</th>\n",
       "      <td>Hornet 4 Drive</td>\n",
       "      <td>3.08</td>\n",
       "      <td>3.215</td>\n",
       "      <td>19.44</td>\n",
       "    </tr>\n",
       "    <tr>\n",
       "      <th>4</th>\n",
       "      <td>Hornet Sportabout</td>\n",
       "      <td>3.15</td>\n",
       "      <td>3.440</td>\n",
       "      <td>17.02</td>\n",
       "    </tr>\n",
       "    <tr>\n",
       "      <th>5</th>\n",
       "      <td>Valiant</td>\n",
       "      <td>2.76</td>\n",
       "      <td>3.460</td>\n",
       "      <td>20.22</td>\n",
       "    </tr>\n",
       "    <tr>\n",
       "      <th>6</th>\n",
       "      <td>Duster 360</td>\n",
       "      <td>3.21</td>\n",
       "      <td>3.570</td>\n",
       "      <td>15.84</td>\n",
       "    </tr>\n",
       "    <tr>\n",
       "      <th>7</th>\n",
       "      <td>Merc 240D</td>\n",
       "      <td>3.69</td>\n",
       "      <td>3.190</td>\n",
       "      <td>20.00</td>\n",
       "    </tr>\n",
       "    <tr>\n",
       "      <th>8</th>\n",
       "      <td>Merc 230</td>\n",
       "      <td>3.92</td>\n",
       "      <td>3.150</td>\n",
       "      <td>22.90</td>\n",
       "    </tr>\n",
       "    <tr>\n",
       "      <th>9</th>\n",
       "      <td>Merc 280</td>\n",
       "      <td>3.92</td>\n",
       "      <td>3.440</td>\n",
       "      <td>18.30</td>\n",
       "    </tr>\n",
       "    <tr>\n",
       "      <th>10</th>\n",
       "      <td>Merc 280C</td>\n",
       "      <td>3.92</td>\n",
       "      <td>3.440</td>\n",
       "      <td>18.90</td>\n",
       "    </tr>\n",
       "    <tr>\n",
       "      <th>11</th>\n",
       "      <td>Merc 450SE</td>\n",
       "      <td>3.07</td>\n",
       "      <td>4.070</td>\n",
       "      <td>17.40</td>\n",
       "    </tr>\n",
       "    <tr>\n",
       "      <th>12</th>\n",
       "      <td>Merc 450SL</td>\n",
       "      <td>3.07</td>\n",
       "      <td>3.730</td>\n",
       "      <td>17.60</td>\n",
       "    </tr>\n",
       "    <tr>\n",
       "      <th>13</th>\n",
       "      <td>Merc 450SLC</td>\n",
       "      <td>3.07</td>\n",
       "      <td>3.780</td>\n",
       "      <td>18.00</td>\n",
       "    </tr>\n",
       "    <tr>\n",
       "      <th>14</th>\n",
       "      <td>Cadillac Fleetwood</td>\n",
       "      <td>2.93</td>\n",
       "      <td>5.250</td>\n",
       "      <td>17.98</td>\n",
       "    </tr>\n",
       "    <tr>\n",
       "      <th>15</th>\n",
       "      <td>Lincoln Continental</td>\n",
       "      <td>3.00</td>\n",
       "      <td>5.424</td>\n",
       "      <td>17.82</td>\n",
       "    </tr>\n",
       "    <tr>\n",
       "      <th>16</th>\n",
       "      <td>Chrysler Imperial</td>\n",
       "      <td>3.23</td>\n",
       "      <td>5.345</td>\n",
       "      <td>17.42</td>\n",
       "    </tr>\n",
       "    <tr>\n",
       "      <th>17</th>\n",
       "      <td>Fiat 128</td>\n",
       "      <td>4.08</td>\n",
       "      <td>2.200</td>\n",
       "      <td>19.47</td>\n",
       "    </tr>\n",
       "    <tr>\n",
       "      <th>18</th>\n",
       "      <td>Honda Civic</td>\n",
       "      <td>4.93</td>\n",
       "      <td>1.615</td>\n",
       "      <td>18.52</td>\n",
       "    </tr>\n",
       "    <tr>\n",
       "      <th>19</th>\n",
       "      <td>Toyota Corolla</td>\n",
       "      <td>4.22</td>\n",
       "      <td>1.835</td>\n",
       "      <td>19.90</td>\n",
       "    </tr>\n",
       "    <tr>\n",
       "      <th>20</th>\n",
       "      <td>Toyota Corona</td>\n",
       "      <td>3.70</td>\n",
       "      <td>2.465</td>\n",
       "      <td>20.01</td>\n",
       "    </tr>\n",
       "    <tr>\n",
       "      <th>21</th>\n",
       "      <td>Dodge Challenger</td>\n",
       "      <td>2.76</td>\n",
       "      <td>3.520</td>\n",
       "      <td>16.87</td>\n",
       "    </tr>\n",
       "    <tr>\n",
       "      <th>22</th>\n",
       "      <td>AMC Javelin</td>\n",
       "      <td>3.15</td>\n",
       "      <td>3.435</td>\n",
       "      <td>17.30</td>\n",
       "    </tr>\n",
       "    <tr>\n",
       "      <th>23</th>\n",
       "      <td>Camaro Z28</td>\n",
       "      <td>3.73</td>\n",
       "      <td>3.840</td>\n",
       "      <td>15.41</td>\n",
       "    </tr>\n",
       "    <tr>\n",
       "      <th>24</th>\n",
       "      <td>Pontiac Firebird</td>\n",
       "      <td>3.08</td>\n",
       "      <td>3.845</td>\n",
       "      <td>17.05</td>\n",
       "    </tr>\n",
       "    <tr>\n",
       "      <th>25</th>\n",
       "      <td>Fiat X1-9</td>\n",
       "      <td>4.08</td>\n",
       "      <td>1.935</td>\n",
       "      <td>18.90</td>\n",
       "    </tr>\n",
       "    <tr>\n",
       "      <th>26</th>\n",
       "      <td>Porsche 914-2</td>\n",
       "      <td>4.43</td>\n",
       "      <td>2.140</td>\n",
       "      <td>16.70</td>\n",
       "    </tr>\n",
       "    <tr>\n",
       "      <th>27</th>\n",
       "      <td>Lotus Europa</td>\n",
       "      <td>3.77</td>\n",
       "      <td>1.513</td>\n",
       "      <td>16.90</td>\n",
       "    </tr>\n",
       "    <tr>\n",
       "      <th>28</th>\n",
       "      <td>Ford Pantera L</td>\n",
       "      <td>4.22</td>\n",
       "      <td>3.170</td>\n",
       "      <td>14.50</td>\n",
       "    </tr>\n",
       "    <tr>\n",
       "      <th>29</th>\n",
       "      <td>Ferrari Dino</td>\n",
       "      <td>3.62</td>\n",
       "      <td>2.770</td>\n",
       "      <td>15.50</td>\n",
       "    </tr>\n",
       "    <tr>\n",
       "      <th>30</th>\n",
       "      <td>Maserati Bora</td>\n",
       "      <td>3.54</td>\n",
       "      <td>3.570</td>\n",
       "      <td>14.60</td>\n",
       "    </tr>\n",
       "    <tr>\n",
       "      <th>31</th>\n",
       "      <td>Volvo 142E</td>\n",
       "      <td>4.11</td>\n",
       "      <td>2.780</td>\n",
       "      <td>18.60</td>\n",
       "    </tr>\n",
       "  </tbody>\n",
       "</table>\n",
       "</div>"
      ],
      "text/plain": [
       "             Unnamed: 0  Points  Score  Weigh\n",
       "0             Mazda RX4    3.90  2.620  16.46\n",
       "1         Mazda RX4 Wag    3.90  2.875  17.02\n",
       "2            Datsun 710    3.85  2.320  18.61\n",
       "3        Hornet 4 Drive    3.08  3.215  19.44\n",
       "4     Hornet Sportabout    3.15  3.440  17.02\n",
       "5               Valiant    2.76  3.460  20.22\n",
       "6            Duster 360    3.21  3.570  15.84\n",
       "7             Merc 240D    3.69  3.190  20.00\n",
       "8              Merc 230    3.92  3.150  22.90\n",
       "9              Merc 280    3.92  3.440  18.30\n",
       "10            Merc 280C    3.92  3.440  18.90\n",
       "11           Merc 450SE    3.07  4.070  17.40\n",
       "12           Merc 450SL    3.07  3.730  17.60\n",
       "13          Merc 450SLC    3.07  3.780  18.00\n",
       "14   Cadillac Fleetwood    2.93  5.250  17.98\n",
       "15  Lincoln Continental    3.00  5.424  17.82\n",
       "16    Chrysler Imperial    3.23  5.345  17.42\n",
       "17             Fiat 128    4.08  2.200  19.47\n",
       "18          Honda Civic    4.93  1.615  18.52\n",
       "19       Toyota Corolla    4.22  1.835  19.90\n",
       "20        Toyota Corona    3.70  2.465  20.01\n",
       "21     Dodge Challenger    2.76  3.520  16.87\n",
       "22          AMC Javelin    3.15  3.435  17.30\n",
       "23           Camaro Z28    3.73  3.840  15.41\n",
       "24     Pontiac Firebird    3.08  3.845  17.05\n",
       "25            Fiat X1-9    4.08  1.935  18.90\n",
       "26        Porsche 914-2    4.43  2.140  16.70\n",
       "27         Lotus Europa    3.77  1.513  16.90\n",
       "28       Ford Pantera L    4.22  3.170  14.50\n",
       "29         Ferrari Dino    3.62  2.770  15.50\n",
       "30        Maserati Bora    3.54  3.570  14.60\n",
       "31           Volvo 142E    4.11  2.780  18.60"
      ]
     },
     "execution_count": 34,
     "metadata": {},
     "output_type": "execute_result"
    }
   ],
   "source": [
    "Df1"
   ]
  },
  {
   "cell_type": "markdown",
   "id": "04677f91",
   "metadata": {},
   "source": [
    "# Mean,Median,Mode,Standard Deviation,Range for Points"
   ]
  },
  {
   "cell_type": "code",
   "execution_count": 18,
   "id": "a70d6216",
   "metadata": {},
   "outputs": [
    {
     "data": {
      "text/plain": [
       "3.5965625000000006"
      ]
     },
     "execution_count": 18,
     "metadata": {},
     "output_type": "execute_result"
    }
   ],
   "source": [
    "Df1.Points.mean()"
   ]
  },
  {
   "cell_type": "code",
   "execution_count": 19,
   "id": "cb2c0e85",
   "metadata": {},
   "outputs": [
    {
     "data": {
      "text/plain": [
       "3.6950000000000003"
      ]
     },
     "execution_count": 19,
     "metadata": {},
     "output_type": "execute_result"
    }
   ],
   "source": [
    "Df1.Points.median()"
   ]
  },
  {
   "cell_type": "code",
   "execution_count": 29,
   "id": "d9385118",
   "metadata": {},
   "outputs": [
    {
     "data": {
      "text/plain": [
       "0    3.07\n",
       "1    3.92\n",
       "Name: Points, dtype: float64"
      ]
     },
     "execution_count": 29,
     "metadata": {},
     "output_type": "execute_result"
    }
   ],
   "source": [
    "Df1.Points.mode()"
   ]
  },
  {
   "cell_type": "code",
   "execution_count": 31,
   "id": "af9eec7d",
   "metadata": {
    "scrolled": true
   },
   "outputs": [
    {
     "data": {
      "text/plain": [
       "0.5346787360709716"
      ]
     },
     "execution_count": 31,
     "metadata": {},
     "output_type": "execute_result"
    }
   ],
   "source": [
    "Df1.Points.std()"
   ]
  },
  {
   "cell_type": "code",
   "execution_count": 36,
   "id": "d0404060",
   "metadata": {},
   "outputs": [
    {
     "data": {
      "text/plain": [
       "4.93"
      ]
     },
     "execution_count": 36,
     "metadata": {},
     "output_type": "execute_result"
    }
   ],
   "source": [
    "Df1.Points.max()"
   ]
  },
  {
   "cell_type": "code",
   "execution_count": 37,
   "id": "42d60da1",
   "metadata": {},
   "outputs": [
    {
     "data": {
      "text/plain": [
       "2.76"
      ]
     },
     "execution_count": 37,
     "metadata": {},
     "output_type": "execute_result"
    }
   ],
   "source": [
    "Df1.Points.min()"
   ]
  },
  {
   "cell_type": "markdown",
   "id": "1ee9e3d2",
   "metadata": {},
   "source": [
    "# Mean,Median,Mode,Standard Deviation,Range for Score"
   ]
  },
  {
   "cell_type": "code",
   "execution_count": 20,
   "id": "56bd53cb",
   "metadata": {},
   "outputs": [
    {
     "data": {
      "text/plain": [
       "3.2172499999999995"
      ]
     },
     "execution_count": 20,
     "metadata": {},
     "output_type": "execute_result"
    }
   ],
   "source": [
    "Df1.Score.mean()"
   ]
  },
  {
   "cell_type": "code",
   "execution_count": 22,
   "id": "0aaaefd3",
   "metadata": {},
   "outputs": [
    {
     "data": {
      "text/plain": [
       "3.325"
      ]
     },
     "execution_count": 22,
     "metadata": {},
     "output_type": "execute_result"
    }
   ],
   "source": [
    "Df1.Score.median()"
   ]
  },
  {
   "cell_type": "code",
   "execution_count": 42,
   "id": "2bb1b46a",
   "metadata": {},
   "outputs": [
    {
     "data": {
      "text/plain": [
       "0    3.44\n",
       "Name: Score, dtype: float64"
      ]
     },
     "execution_count": 42,
     "metadata": {},
     "output_type": "execute_result"
    }
   ],
   "source": [
    "Df1.Score.mode()"
   ]
  },
  {
   "cell_type": "code",
   "execution_count": 32,
   "id": "fb72c794",
   "metadata": {},
   "outputs": [
    {
     "data": {
      "text/plain": [
       "0.9784574429896967"
      ]
     },
     "execution_count": 32,
     "metadata": {},
     "output_type": "execute_result"
    }
   ],
   "source": [
    "Df1.Score.std()"
   ]
  },
  {
   "cell_type": "code",
   "execution_count": 43,
   "id": "b77a9d3f",
   "metadata": {},
   "outputs": [
    {
     "data": {
      "text/plain": [
       "5.424"
      ]
     },
     "execution_count": 43,
     "metadata": {},
     "output_type": "execute_result"
    }
   ],
   "source": [
    "Df1.Score.max()"
   ]
  },
  {
   "cell_type": "code",
   "execution_count": 44,
   "id": "6874adf4",
   "metadata": {},
   "outputs": [
    {
     "data": {
      "text/plain": [
       "1.513"
      ]
     },
     "execution_count": 44,
     "metadata": {},
     "output_type": "execute_result"
    }
   ],
   "source": [
    "Df1.Score.min()"
   ]
  },
  {
   "cell_type": "markdown",
   "id": "166cfbd4",
   "metadata": {},
   "source": [
    "# Mean,Median,Mode,Standard Deviation,Range for Weigh"
   ]
  },
  {
   "cell_type": "code",
   "execution_count": 24,
   "id": "6937adcf",
   "metadata": {},
   "outputs": [
    {
     "data": {
      "text/plain": [
       "17.848750000000003"
      ]
     },
     "execution_count": 24,
     "metadata": {},
     "output_type": "execute_result"
    }
   ],
   "source": [
    "Df1.Weigh.mean()"
   ]
  },
  {
   "cell_type": "code",
   "execution_count": 25,
   "id": "35d83348",
   "metadata": {},
   "outputs": [
    {
     "data": {
      "text/plain": [
       "17.71"
      ]
     },
     "execution_count": 25,
     "metadata": {},
     "output_type": "execute_result"
    }
   ],
   "source": [
    "Df1.Weigh.median()"
   ]
  },
  {
   "cell_type": "code",
   "execution_count": 45,
   "id": "9dc978a3",
   "metadata": {},
   "outputs": [
    {
     "data": {
      "text/plain": [
       "0    17.02\n",
       "1    18.90\n",
       "Name: Weigh, dtype: float64"
      ]
     },
     "execution_count": 45,
     "metadata": {},
     "output_type": "execute_result"
    }
   ],
   "source": [
    "Df1.Weigh.mode()"
   ]
  },
  {
   "cell_type": "code",
   "execution_count": 33,
   "id": "542d62d2",
   "metadata": {},
   "outputs": [
    {
     "data": {
      "text/plain": [
       "1.7869432360968431"
      ]
     },
     "execution_count": 33,
     "metadata": {},
     "output_type": "execute_result"
    }
   ],
   "source": [
    "Df1.Weigh.std()"
   ]
  },
  {
   "cell_type": "code",
   "execution_count": 46,
   "id": "a918816b",
   "metadata": {},
   "outputs": [
    {
     "data": {
      "text/plain": [
       "22.9"
      ]
     },
     "execution_count": 46,
     "metadata": {},
     "output_type": "execute_result"
    }
   ],
   "source": [
    "Df1.Weigh.max()"
   ]
  },
  {
   "cell_type": "code",
   "execution_count": 47,
   "id": "e75196a8",
   "metadata": {},
   "outputs": [
    {
     "data": {
      "text/plain": [
       "14.5"
      ]
     },
     "execution_count": 47,
     "metadata": {},
     "output_type": "execute_result"
    }
   ],
   "source": [
    "Df1.Weigh.min()"
   ]
  },
  {
   "cell_type": "markdown",
   "id": "39903031",
   "metadata": {},
   "source": [
    "#  "
   ]
  },
  {
   "cell_type": "code",
   "execution_count": 49,
   "id": "468c1757",
   "metadata": {},
   "outputs": [],
   "source": [
    "import seaborn as sns\n",
    "import warnings\n",
    "warnings.filterwarnings(\"ignore\")"
   ]
  },
  {
   "cell_type": "code",
   "execution_count": 54,
   "id": "9bb56a02",
   "metadata": {
    "scrolled": true
   },
   "outputs": [
    {
     "data": {
      "text/plain": [
       "<seaborn.axisgrid.PairGrid at 0x17701119520>"
      ]
     },
     "execution_count": 54,
     "metadata": {},
     "output_type": "execute_result"
    },
    {
     "data": {
      "image/png": "[encoded data removed]",
      "text/plain": [
       "<Figure size 540x540 with 12 Axes>"
      ]
     },
     "metadata": {
      "needs_background": "light"
     },
     "output_type": "display_data"
    }
   ],
   "source": [
    "g=sns.pairplot(Df1)\n",
    "g.map_upper(sns.scatterplot)\n",
    "g.map_lower(sns.kdeplot)"
   ]
  },
  {
   "cell_type": "code",
   "execution_count": null,
   "id": "914b736d",
   "metadata": {},
   "outputs": [],
   "source": []
  }
 ],
 "metadata": {
  "kernelspec": {
   "display_name": "Python 3 (ipykernel)",
   "language": "python",
   "name": "python3"
  },
  "language_info": {
   "codemirror_mode": {
    "name": "ipython",
    "version": 3
   },
   "file_extension": ".py",
   "mimetype": "text/x-python",
   "name": "python",
   "nbconvert_exporter": "python",
   "pygments_lexer": "ipython3",
   "version": "3.9.12"
  }
 },
 "nbformat": 4,
 "nbformat_minor": 5
}
