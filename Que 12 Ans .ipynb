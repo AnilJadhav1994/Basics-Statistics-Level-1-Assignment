{
 "cells": [
  {
   "cell_type": "code",
   "execution_count": 9,
   "id": "6e490f5b",
   "metadata": {},
   "outputs": [],
   "source": [
    "from statistics import mean ,median, mode,stdev,variance"
   ]
  },
  {
   "cell_type": "code",
   "execution_count": 10,
   "id": "90c7f20e",
   "metadata": {},
   "outputs": [],
   "source": [
    "data_set = [34,36,36,38,38,39,39,40,40,41,41,41,41,42,42,45,49,56]"
   ]
  },
  {
   "cell_type": "code",
   "execution_count": 11,
   "id": "20b5b8d2",
   "metadata": {},
   "outputs": [
    {
     "data": {
      "text/plain": [
       "41"
      ]
     },
     "execution_count": 11,
     "metadata": {},
     "output_type": "execute_result"
    }
   ],
   "source": [
    "mean(data_set)"
   ]
  },
  {
   "cell_type": "code",
   "execution_count": 12,
   "id": "d7c840f1",
   "metadata": {},
   "outputs": [
    {
     "data": {
      "text/plain": [
       "40.5"
      ]
     },
     "execution_count": 12,
     "metadata": {},
     "output_type": "execute_result"
    }
   ],
   "source": [
    "median(data_set)"
   ]
  },
  {
   "cell_type": "code",
   "execution_count": 13,
   "id": "d7988b20",
   "metadata": {},
   "outputs": [
    {
     "data": {
      "text/plain": [
       "41"
      ]
     },
     "execution_count": 13,
     "metadata": {},
     "output_type": "execute_result"
    }
   ],
   "source": [
    "mode(data_set)"
   ]
  },
  {
   "cell_type": "code",
   "execution_count": 15,
   "id": "519a398d",
   "metadata": {},
   "outputs": [
    {
     "data": {
      "text/plain": [
       "25.529411764705884"
      ]
     },
     "execution_count": 15,
     "metadata": {},
     "output_type": "execute_result"
    }
   ],
   "source": [
    "variance(data_set)"
   ]
  },
  {
   "cell_type": "code",
   "execution_count": 14,
   "id": "993a0e7d",
   "metadata": {},
   "outputs": [
    {
     "data": {
      "text/plain": [
       "5.05266382858645"
      ]
     },
     "execution_count": 14,
     "metadata": {},
     "output_type": "execute_result"
    }
   ],
   "source": [
    "stdev(data_set)"
   ]
  },
  {
   "cell_type": "code",
   "execution_count": null,
   "id": "cf30dad9",
   "metadata": {},
   "outputs": [],
   "source": []
  }
 ],
 "metadata": {
  "kernelspec": {
   "display_name": "Python 3 (ipykernel)",
   "language": "python",
   "name": "python3"
  },
  "language_info": {
   "codemirror_mode": {
    "name": "ipython",
    "version": 3
   },
   "file_extension": ".py",
   "mimetype": "text/x-python",
   "name": "python",
   "nbconvert_exporter": "python",
   "pygments_lexer": "ipython3",
   "version": "3.9.12"
  }
 },
 "nbformat": 4,
 "nbformat_minor": 5
}
